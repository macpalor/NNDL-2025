{
 "cells": [
  {
   "cell_type": "markdown",
   "metadata": {},
   "source": [
    "# Exercise 1 computer assignments\n",
    "\n",
    "Fill in the parts labeled **your solution here** and replace *...* with your code. You *do not* need to strictly follow the template, but you may lose points if you do not provide the required results."
   ]
  },
  {
   "cell_type": "markdown",
   "metadata": {},
   "source": [
    "## 1 Basic definitions"
   ]
  },
  {
   "cell_type": "code",
   "execution_count": null,
   "metadata": {},
   "outputs": [],
   "source": [
    "import torch\n",
    "import torch.nn as nn\n",
    "import matplotlib.pyplot as plt"
   ]
  },
  {
   "cell_type": "markdown",
   "metadata": {},
   "source": [
    "#### (a)"
   ]
  },
  {
   "cell_type": "code",
   "execution_count": null,
   "metadata": {},
   "outputs": [],
   "source": [
    "..."
   ]
  },
  {
   "cell_type": "markdown",
   "metadata": {},
   "source": [
    "#### (b)"
   ]
  },
  {
   "cell_type": "code",
   "execution_count": null,
   "metadata": {},
   "outputs": [],
   "source": [
    "...\n",
    "\n",
    "# Code for reporting the 9 plots:\n",
    "fig, axs = plt.subplots(nrows=3, ncols=3, figsize=(15, 10))\n",
    "for i in range(3): # loop over rows of plot\n",
    "    ...\n",
    "    for j in range(3): # loop over cols of plot\n",
    "        ...\n",
    "        axs[i, j].plot(...)\n",
    "        axs[i, j].set_title(...)\n",
    "        axs[i, j].set_xlabel('x1')\n",
    "        axs[i, j].set_ylabel('y1')\n",
    "plt.tight_layout()\n",
    "plt.show()"
   ]
  },
  {
   "cell_type": "markdown",
   "metadata": {},
   "source": [
    "## 2 Optimization"
   ]
  },
  {
   "cell_type": "markdown",
   "metadata": {},
   "source": [
    "### 1."
   ]
  },
  {
   "cell_type": "code",
   "execution_count": null,
   "metadata": {},
   "outputs": [],
   "source": [
    "import numpy as np\n",
    "import matplotlib.pyplot as plt\n",
    "import copy\n",
    "\n",
    "np.random.seed(1)"
   ]
  },
  {
   "cell_type": "markdown",
   "metadata": {},
   "source": [
    "#### (a)"
   ]
  },
  {
   "cell_type": "code",
   "execution_count": null,
   "metadata": {
    "vscode": {
     "languageId": "plaintext"
    }
   },
   "outputs": [],
   "source": [
    "..."
   ]
  },
  {
   "cell_type": "code",
   "execution_count": null,
   "metadata": {},
   "outputs": [],
   "source": [
    "\n",
    "# Code for plotting isocontours of the function f\n",
    "vec_f = np.vectorize(f, signature=\"(n)->()\")\n",
    "w1 = np.linspace(-2.0, 3.0, 200)\n",
    "w2 = np.linspace(-2.0, 3.0, 200)\n",
    "W1, W2 = np.meshgrid(w1, w2)\n",
    "Fs = vec_f(np.stack((W1, W2), axis=2))\n",
    "plt.figure(dpi=150)\n",
    "plt.contour(W1, W2, Fs)\n",
    "plt.xlabel(\"w1\")\n",
    "plt.ylabel(\"w2\")\n",
    "plt.show()"
   ]
  },
  {
   "cell_type": "markdown",
   "metadata": {},
   "source": [
    "#### (b)"
   ]
  },
  {
   "cell_type": "markdown",
   "metadata": {},
   "source": [
    "**your solution here**"
   ]
  },
  {
   "cell_type": "markdown",
   "metadata": {},
   "source": [
    "#### (c)"
   ]
  },
  {
   "cell_type": "code",
   "execution_count": null,
   "metadata": {},
   "outputs": [],
   "source": [
    "w1 = np.asarray([0.2, 0.5])\n",
    "w2 = np.asarray([0.5, 0.2])\n",
    "w3 = np.asarray([1.0, 1.0])\n",
    "\n",
    "..."
   ]
  },
  {
   "cell_type": "markdown",
   "metadata": {},
   "source": [
    "#### (d)"
   ]
  },
  {
   "cell_type": "code",
   "execution_count": null,
   "metadata": {
    "scrolled": true
   },
   "outputs": [],
   "source": [
    "...\n",
    "\n",
    "# Code for plotting.\n",
    "fig, axes = plt.subplots(1, 3, figsize=(15, 5), dpi=150)\n",
    "for ... in enumerate([w1, w2, w3]):\n",
    "    ...\n",
    "    ax = axes[i]\n",
    "    ax.contour(W1, W2, Fs)\n",
    "    ax.plot(..., ..., marker=\"o\", color=\"blue\", label=\"Initial\")\n",
    "    for i in ...:\n",
    "        ax.arrow(..., ..., ..., ..., length_includes_head=True, width=0.03)\n",
    "    ax.plot(..., ..., marker=\"o\", color=\"red\", label=\"Final\")\n",
    "    ax.set_xlabel(\"w1\")\n",
    "    ax.set_ylabel(\"w2\")\n",
    "    ax.legend()\n",
    "    ...\n",
    "plt.show()"
   ]
  },
  {
   "cell_type": "markdown",
   "metadata": {},
   "source": [
    "#### (e)"
   ]
  },
  {
   "cell_type": "code",
   "execution_count": null,
   "metadata": {},
   "outputs": [],
   "source": [
    "# Code for plotting.\n",
    "fig, axs = plt.subplots(1, 3, figsize=(15, 5), sharey=True)\n",
    "for i, ... in enumerate(...):\n",
    "    axs[i].plot(...)\n",
    "    axs[i].set_xlabel(\"Number of iterations\")\n",
    "    axs[i].set_ylabel(\"Function value\")\n",
    "plt.show()"
   ]
  },
  {
   "cell_type": "markdown",
   "metadata": {},
   "source": [
    "#### (f)"
   ]
  },
  {
   "cell_type": "markdown",
   "metadata": {},
   "source": [
    "**your solution here**"
   ]
  }
 ],
 "metadata": {
  "kernelspec": {
   "display_name": "Python 3 (ipykernel)",
   "language": "python",
   "name": "python3"
  },
  "language_info": {
   "codemirror_mode": {
    "name": "ipython",
    "version": 3
   },
   "file_extension": ".py",
   "mimetype": "text/x-python",
   "name": "python",
   "nbconvert_exporter": "python",
   "pygments_lexer": "ipython3",
   "version": "3.10.13"
  }
 },
 "nbformat": 4,
 "nbformat_minor": 4
}
