{
 "cells": [
  {
   "cell_type": "markdown",
   "metadata": {},
   "source": [
    "# Exercise 1 computer assignments\n",
    "\n",
    "Fill in the parts labeled **your solution here** and replace *...* with your code. You *do not* need to strictly follow the template, but you may lose points if you do not provide the required results."
   ]
  },
  {
   "cell_type": "markdown",
   "metadata": {},
   "source": [
    "## 1 Basic definitions"
   ]
  },
  {
   "cell_type": "code",
   "execution_count": 1,
   "metadata": {},
   "outputs": [],
   "source": [
    "import torch\n",
    "import torch.nn as nn\n",
    "import matplotlib.pyplot as plt"
   ]
  },
  {
   "cell_type": "markdown",
   "metadata": {},
   "source": [
    "#### (a)"
   ]
  },
  {
   "cell_type": "code",
   "execution_count": 8,
   "metadata": {},
   "outputs": [],
   "source": [
    "device = \"cuda\" if torch.cuda.is_available() else \"cpu\"\n",
    "\n",
    "class Net(nn.Module):\n",
    "    def __init__(self, foo) -> None: \n",
    "        super().__init__()\n",
    "        self.layers = nn.Sequential(\n",
    "            nn.Linear(5, 5),\n",
    "            foo,\n",
    "            nn.Linear(5, 5),\n",
    "            foo,\n",
    "            nn.Linear(5, 5),\n",
    "            foo            \n",
    "        )\n",
    "    \n",
    "    def forward(self, x) -> torch.tensor:\n",
    "        return self.layers(x)\n",
    "    \n",
    "tanhnet = Net(nn.Tanh()).to(device)\n",
    "relunet = Net(nn.ReLU()).to(device)\n",
    "linearnet = Net(nn.Identity()).to(device)"
   ]
  },
  {
   "cell_type": "code",
   "execution_count": 22,
   "metadata": {},
   "outputs": [
    {
     "name": "stdout",
     "output_type": "stream",
     "text": [
      "Net(\n",
      "  (layers): Sequential(\n",
      "    (0): Linear(in_features=5, out_features=5, bias=True)\n",
      "    (1): Tanh()\n",
      "    (2): Linear(in_features=5, out_features=5, bias=True)\n",
      "    (3): Tanh()\n",
      "    (4): Linear(in_features=5, out_features=5, bias=True)\n",
      "    (5): Tanh()\n",
      "  )\n",
      ")\n",
      "Parameter containing:\n",
      "tensor([[ 0.4150,  0.0326, -0.4365, -0.1716,  0.2222],\n",
      "        [-0.3711,  0.0825,  0.3143,  0.0620,  0.3703],\n",
      "        [-0.0847, -0.1224, -0.2912,  0.2823,  0.3216],\n",
      "        [-0.0175,  0.2605, -0.1468, -0.0284,  0.3814],\n",
      "        [-0.0600, -0.0173, -0.2102, -0.3582, -0.2514]], device='cuda:0',\n",
      "       requires_grad=True)\n",
      "\n",
      "Parameter containing:\n",
      "tensor([ 0.1481,  0.3361, -0.0583, -0.2993,  0.1233], device='cuda:0',\n",
      "       requires_grad=True)\n",
      "\n",
      "Parameter containing:\n",
      "tensor([[ 0.4459, -0.2415,  0.0794, -0.2868,  0.4291],\n",
      "        [-0.3245, -0.3735,  0.2466, -0.1649,  0.0694],\n",
      "        [ 0.3915, -0.0749, -0.1860, -0.1500,  0.1709],\n",
      "        [ 0.3364,  0.2691,  0.3941,  0.0515, -0.4133],\n",
      "        [ 0.0153, -0.3496,  0.0206,  0.4080, -0.3227]], device='cuda:0',\n",
      "       requires_grad=True)\n",
      "\n",
      "Parameter containing:\n",
      "tensor([ 0.2693, -0.1011, -0.4378,  0.3187, -0.1717], device='cuda:0',\n",
      "       requires_grad=True)\n",
      "\n",
      "Parameter containing:\n",
      "tensor([[-0.1506, -0.1559, -0.0895, -0.2934,  0.2635],\n",
      "        [-0.0323, -0.3787, -0.0808,  0.3625, -0.3523],\n",
      "        [ 0.3413,  0.1344, -0.4367,  0.0430, -0.3534],\n",
      "        [-0.3795, -0.2132,  0.1645,  0.1467, -0.2009],\n",
      "        [ 0.3685, -0.3622,  0.3107, -0.1923,  0.3694]], device='cuda:0',\n",
      "       requires_grad=True)\n",
      "\n",
      "Parameter containing:\n",
      "tensor([-0.0852, -0.1644,  0.0908,  0.2986,  0.0635], device='cuda:0',\n",
      "       requires_grad=True)\n",
      "\n"
     ]
    }
   ],
   "source": [
    "torch.manual_seed(1)\n",
    "\n",
    "x = torch.randn(5, device=device)\n",
    "#print(tanhnet(x))\n",
    "#print(relunet(x))\n",
    "#print(linearnet(x))\n",
    "\n",
    "print(tanhnet)\n",
    "\n",
    "for param in tanhnet.parameters():\n",
    "    print(param)\n",
    "    print()\n",
    "\n"
   ]
  },
  {
   "cell_type": "markdown",
   "metadata": {},
   "source": [
    "#### (b)"
   ]
  },
  {
   "cell_type": "code",
   "execution_count": null,
   "metadata": {},
   "outputs": [],
   "source": [
    "...\n",
    "\n",
    "# Code for reporting the 9 plots:\n",
    "fig, axs = plt.subplots(nrows=3, ncols=3, figsize=(15, 10))\n",
    "for i in range(3): # loop over rows of plot\n",
    "    ...\n",
    "    for j in range(3): # loop over cols of plot\n",
    "        ...\n",
    "        axs[i, j].plot(...)\n",
    "        axs[i, j].set_title(...)\n",
    "        axs[i, j].set_xlabel('x1')\n",
    "        axs[i, j].set_ylabel('y1')\n",
    "plt.tight_layout()\n",
    "plt.show()"
   ]
  },
  {
   "cell_type": "markdown",
   "metadata": {},
   "source": [
    "## 2 Optimization"
   ]
  },
  {
   "cell_type": "markdown",
   "metadata": {},
   "source": [
    "### 1."
   ]
  },
  {
   "cell_type": "code",
   "execution_count": null,
   "metadata": {},
   "outputs": [],
   "source": [
    "import numpy as np\n",
    "import matplotlib.pyplot as plt\n",
    "import copy\n",
    "\n",
    "np.random.seed(1)"
   ]
  },
  {
   "cell_type": "markdown",
   "metadata": {},
   "source": [
    "#### (a)"
   ]
  },
  {
   "cell_type": "code",
   "execution_count": null,
   "metadata": {},
   "outputs": [],
   "source": [
    "..."
   ]
  },
  {
   "cell_type": "code",
   "execution_count": null,
   "metadata": {},
   "outputs": [],
   "source": [
    "\n",
    "# Code for plotting isocontours of the function f\n",
    "vec_f = np.vectorize(f, signature=\"(n)->()\")\n",
    "w1 = np.linspace(-2.0, 3.0, 200)\n",
    "w2 = np.linspace(-2.0, 3.0, 200)\n",
    "W1, W2 = np.meshgrid(w1, w2)\n",
    "Fs = vec_f(np.stack((W1, W2), axis=2))\n",
    "plt.figure(dpi=150)\n",
    "plt.contour(W1, W2, Fs)\n",
    "plt.xlabel(\"w1\")\n",
    "plt.ylabel(\"w2\")\n",
    "plt.show()"
   ]
  },
  {
   "cell_type": "markdown",
   "metadata": {},
   "source": [
    "#### (b)"
   ]
  },
  {
   "cell_type": "markdown",
   "metadata": {},
   "source": [
    "**your solution here**"
   ]
  },
  {
   "cell_type": "markdown",
   "metadata": {},
   "source": [
    "#### (c)"
   ]
  },
  {
   "cell_type": "code",
   "execution_count": null,
   "metadata": {},
   "outputs": [],
   "source": [
    "w1 = np.asarray([0.2, 0.5])\n",
    "w2 = np.asarray([0.5, 0.2])\n",
    "w3 = np.asarray([1.0, 1.0])\n",
    "\n",
    "..."
   ]
  },
  {
   "cell_type": "markdown",
   "metadata": {},
   "source": [
    "#### (d)"
   ]
  },
  {
   "cell_type": "code",
   "execution_count": null,
   "metadata": {
    "scrolled": true
   },
   "outputs": [],
   "source": [
    "...\n",
    "\n",
    "# Code for plotting.\n",
    "fig, axes = plt.subplots(1, 3, figsize=(15, 5), dpi=150)\n",
    "for ... in enumerate([w1, w2, w3]):\n",
    "    ...\n",
    "    ax = axes[i]\n",
    "    ax.contour(W1, W2, Fs)\n",
    "    ax.plot(..., ..., marker=\"o\", color=\"blue\", label=\"Initial\")\n",
    "    for i in ...:\n",
    "        ax.arrow(..., ..., ..., ..., length_includes_head=True, width=0.03)\n",
    "    ax.plot(..., ..., marker=\"o\", color=\"red\", label=\"Final\")\n",
    "    ax.set_xlabel(\"w1\")\n",
    "    ax.set_ylabel(\"w2\")\n",
    "    ax.legend()\n",
    "    ...\n",
    "plt.show()"
   ]
  },
  {
   "cell_type": "markdown",
   "metadata": {},
   "source": [
    "#### (e)"
   ]
  },
  {
   "cell_type": "code",
   "execution_count": null,
   "metadata": {},
   "outputs": [],
   "source": [
    "# Code for plotting.\n",
    "fig, axs = plt.subplots(1, 3, figsize=(15, 5), sharey=True)\n",
    "for i, ... in enumerate(...):\n",
    "    axs[i].plot(...)\n",
    "    axs[i].set_xlabel(\"Number of iterations\")\n",
    "    axs[i].set_ylabel(\"Function value\")\n",
    "plt.show()"
   ]
  },
  {
   "cell_type": "markdown",
   "metadata": {},
   "source": [
    "#### (f)"
   ]
  },
  {
   "cell_type": "markdown",
   "metadata": {},
   "source": [
    "**your solution here**"
   ]
  }
 ],
 "metadata": {
  "kernelspec": {
   "display_name": "base",
   "language": "python",
   "name": "python3"
  },
  "language_info": {
   "codemirror_mode": {
    "name": "ipython",
    "version": 3
   },
   "file_extension": ".py",
   "mimetype": "text/x-python",
   "name": "python",
   "nbconvert_exporter": "python",
   "pygments_lexer": "ipython3",
   "version": "3.12.3"
  }
 },
 "nbformat": 4,
 "nbformat_minor": 4
}
