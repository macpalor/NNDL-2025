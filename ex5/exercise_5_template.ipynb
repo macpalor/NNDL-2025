{
 "cells": [
  {
   "cell_type": "code",
   "execution_count": 1,
   "id": "4f5ef6e6-dfa9-491e-936d-76e4cef3208b",
   "metadata": {},
   "outputs": [
    {
     "data": {
      "text/plain": [
       "<torch._C.Generator at 0x231c46758f0>"
      ]
     },
     "execution_count": 1,
     "metadata": {},
     "output_type": "execute_result"
    }
   ],
   "source": [
    "import torch\n",
    "import torch.nn as nn\n",
    "import torch.nn.functional as F\n",
    "import torch.optim as optim\n",
    "from torchvision import datasets, transforms\n",
    "import numpy as np\n",
    "import matplotlib.pyplot as plt\n",
    "from tqdm import tqdm\n",
    "\n",
    "# fix random seeds for reproducibility\n",
    "np.random.seed(1)\n",
    "torch.manual_seed(1)"
   ]
  },
  {
   "cell_type": "code",
   "execution_count": 2,
   "id": "17fe7097-e530-4db4-8ac3-3c5870a66b59",
   "metadata": {},
   "outputs": [],
   "source": [
    "device = \"cuda\" if torch.cuda.is_available() else \"cpu\""
   ]
  },
  {
   "cell_type": "markdown",
   "id": "54b99b6c-1e85-459b-9ae3-af8b042c6952",
   "metadata": {},
   "source": [
    "## Model specification"
   ]
  },
  {
   "cell_type": "markdown",
   "id": "2a40b2cd-de94-43b0-b1d3-d5a3645d95eb",
   "metadata": {},
   "source": [
    "## Data"
   ]
  },
  {
   "cell_type": "code",
   "execution_count": 3,
   "id": "af1a2fbe-a81a-444f-9833-29b1d40817e6",
   "metadata": {},
   "outputs": [],
   "source": [
    "batch_size = 128\n",
    "lr = 3e-4\n",
    "log_interval = 10\n",
    "num_epochs = 15"
   ]
  },
  {
   "cell_type": "code",
   "execution_count": 4,
   "id": "0f83a560-be2f-431b-a82e-92941b9e8736",
   "metadata": {},
   "outputs": [
    {
     "name": "stderr",
     "output_type": "stream",
     "text": [
      "100%|██████████| 9.91M/9.91M [00:11<00:00, 880kB/s] \n",
      "100%|██████████| 28.9k/28.9k [00:00<00:00, 213kB/s]\n",
      "100%|██████████| 1.65M/1.65M [00:03<00:00, 428kB/s]\n",
      "100%|██████████| 4.54k/4.54k [00:00<00:00, 4.55MB/s]\n"
     ]
    }
   ],
   "source": [
    "transform = transforms.Compose([transforms.ToTensor(), transforms.Normalize((0.1307,), (0.3081,))])\n",
    "\n",
    "dataset1 = datasets.MNIST(\"data\", train=True, download=True, transform=transform)\n",
    "dataset2 = datasets.MNIST(\"data\", train=False, transform=transform)\n",
    "\n",
    "train_loader = torch.utils.data.DataLoader(dataset1, batch_size=batch_size)\n",
    "test_loader = torch.utils.data.DataLoader(dataset2, batch_size=batch_size)"
   ]
  },
  {
   "cell_type": "code",
   "execution_count": 5,
   "id": "76e28fcf-3f97-4692-9d41-bde77a94f62c",
   "metadata": {},
   "outputs": [],
   "source": [
    "indexes = dict()\n",
    "for index, target in enumerate(dataset1.targets.tolist()):\n",
    "    if target not in indexes:\n",
    "        indexes[target] = [index]\n",
    "    else:\n",
    "        indexes[target].append(index)"
   ]
  },
  {
   "cell_type": "code",
   "execution_count": 6,
   "id": "aefa8881-ad2a-4767-a7f3-4a1842c7f11a",
   "metadata": {},
   "outputs": [
    {
     "data": {
      "text/plain": [
       "(torch.Size([500, 784]), torch.Size([500]))"
      ]
     },
     "execution_count": 6,
     "metadata": {},
     "output_type": "execute_result"
    }
   ],
   "source": [
    "subsampled_indexes = dict()\n",
    "for i in range(10):\n",
    "    subsampled_indexes[i] = []\n",
    "subsampled_data = []\n",
    "subsampled_target = []\n",
    "for key, sub_indexes in indexes.items():\n",
    "    np_sub_indexes = np.random.choice(sub_indexes, 50, replace=False)\n",
    "    subsampled_indexes[key] = np_sub_indexes\n",
    "    for index in np_sub_indexes:\n",
    "        data, target = dataset1.__getitem__(index)\n",
    "        subsampled_data.append(torch.flatten(data))\n",
    "        subsampled_target.append(target)\n",
    "    \n",
    "\n",
    "subsampled_data = torch.stack(subsampled_data)\n",
    "subsampled_target = torch.tensor(subsampled_target)\n",
    "subsampled_data.shape, subsampled_target.shape"
   ]
  },
  {
   "cell_type": "markdown",
   "id": "7b784322-9ce3-4d19-962c-0ad18debbac8",
   "metadata": {},
   "source": [
    "## Basic optimization loop"
   ]
  },
  {
   "cell_type": "code",
   "execution_count": null,
   "id": "f71a9f7b-d275-454f-8e0b-c8f9f1d42e64",
   "metadata": {},
   "outputs": [],
   "source": [
    "# TODO"
   ]
  },
  {
   "cell_type": "code",
   "execution_count": null,
   "id": "8356f1f7-ba72-4184-b1ec-0a6158ac701d",
   "metadata": {},
   "outputs": [],
   "source": [
    "embeddings1 = model.encode(subsampled_data).detach().numpy()"
   ]
  },
  {
   "cell_type": "code",
   "execution_count": null,
   "id": "2fe5f3f9-8b97-40ce-9005-137b001f957a",
   "metadata": {},
   "outputs": [],
   "source": [
    "# TODO"
   ]
  },
  {
   "cell_type": "code",
   "execution_count": null,
   "id": "bcafe736-43a7-4496-a375-cff21edf540c",
   "metadata": {},
   "outputs": [],
   "source": [
    "embeddings2 = model.encode(subsampled_data).detach().numpy()"
   ]
  },
  {
   "cell_type": "code",
   "execution_count": null,
   "id": "745d710d-7593-4f2c-90e9-144bb2f2abe7",
   "metadata": {},
   "outputs": [],
   "source": [
    "fig, axs = plt.subplots(1, 2, dpi=150, figsize=(10, 4))\n",
    "cmap = plt.get_cmap(\"tab10\")\n",
    "axs[0].set_title(\"Model 1\")\n",
    "for i, (key, indexes) in enumerate(subsampled_indexes.items()):\n",
    "    color = cmap(i / 10)\n",
    "    axs[0].scatter(embeddings1[50*i: 50*(i+1), 0], embeddings1[50*i: 50*(i+1), 1], color=color, label=key)\n",
    "axs[0].legend(fontsize=\"small\")\n",
    "axs[1].set_title(\"Model 2\")\n",
    "for i, (key, indexes) in enumerate(subsampled_indexes.items()):\n",
    "    color = cmap(i / 10)\n",
    "    axs[1].scatter(embeddings2[50*i: 50*(i+1), 0], embeddings2[50*i: 50*(i+1), 1], color=color, label=key)\n",
    "axs[1].legend(fontsize=\"small\")\n",
    "plt.show()"
   ]
  },
  {
   "cell_type": "code",
   "execution_count": null,
   "id": "4d098a30-6466-487d-b1f6-3974114d72d4",
   "metadata": {},
   "outputs": [],
   "source": []
  }
 ],
 "metadata": {
  "kernelspec": {
   "display_name": "base",
   "language": "python",
   "name": "python3"
  },
  "language_info": {
   "codemirror_mode": {
    "name": "ipython",
    "version": 3
   },
   "file_extension": ".py",
   "mimetype": "text/x-python",
   "name": "python",
   "nbconvert_exporter": "python",
   "pygments_lexer": "ipython3",
   "version": "3.12.3"
  }
 },
 "nbformat": 4,
 "nbformat_minor": 5
}
